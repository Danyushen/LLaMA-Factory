{
 "cells": [
  {
   "cell_type": "code",
   "execution_count": 1,
   "id": "1c2f1030",
   "metadata": {},
   "outputs": [],
   "source": [
    "import json\n",
    "import re"
   ]
  },
  {
   "cell_type": "code",
   "execution_count": 50,
   "id": "6b8a91f9",
   "metadata": {},
   "outputs": [],
   "source": [
    "def compute_acc_by_letter(file_path):\n",
    "    total = 0\n",
    "    correct = 0\n",
    "\n",
    "    totals = {'A':0, 'B':0, 'C':0}\n",
    "    corrects = {'A':0, 'B':0, 'C':0}\n",
    "\n",
    "    with open(file_path, 'r') as f:\n",
    "        for line in f:\n",
    "            data = json.loads(line.strip())\n",
    "            prediction = data.get('predict', '')\n",
    "            label = data.get('label', '')\n",
    "\n",
    "            match = re.search(r'[a-zA-Z]', label)\n",
    "            label_letter = match.group()\n",
    "\n",
    "            # check if more than one letter of A-C is present in prediction\n",
    "            if len(re.findall(r'[A-C]', prediction)) > 1:\n",
    "                print(f\"Warning: More than one letter in prediction: {prediction}\")\n",
    "            if label_letter in prediction:\n",
    "                correct += 1\n",
    "                corrects[label_letter] += 1\n",
    "                \n",
    "            total += 1\n",
    "            totals[label_letter] += 1\n",
    "        \n",
    "    if total == 0:\n",
    "        acc = 0\n",
    "    else:\n",
    "        acc = correct / total * 100\n",
    "\n",
    "    acc_by_letter = {}\n",
    "    for letter in ['A', 'B', 'C']:\n",
    "        if totals[letter] == 0:\n",
    "            acc_by_letter[letter] = 0\n",
    "        else:\n",
    "            acc_by_letter[letter] = corrects[letter] / totals[letter] * 100\n",
    "\n",
    "    return acc, acc_by_letter\n"
   ]
  },
  {
   "cell_type": "code",
   "execution_count": 41,
   "id": "b6db722e",
   "metadata": {},
   "outputs": [],
   "source": [
    "def compute_acc(file_path):\n",
    "    total = 0\n",
    "    correct = 0\n",
    "\n",
    "    with open(file_path, 'r') as f:\n",
    "        for line in f:\n",
    "            data = json.loads(line.strip())\n",
    "            prediction = data.get('predict', '')\n",
    "            # remove \"'\" from the prediction\n",
    "            prediction = prediction.replace(\"'\", \"\")\n",
    "            label = data.get('label', '')\n",
    "\n",
    "            if label.lower() in prediction.lower():\n",
    "                print(f\"label: {label}, prediction: {prediction}\")\n",
    "                correct += 1\n",
    "            total += 1\n",
    "        \n",
    "    if total == 0:\n",
    "        acc = 0\n",
    "    else:\n",
    "        acc = correct / total * 100\n",
    "\n",
    "    return acc\n"
   ]
  },
  {
   "cell_type": "code",
   "execution_count": 52,
   "id": "5e8d1493",
   "metadata": {},
   "outputs": [
    {
     "name": "stdout",
     "output_type": "stream",
     "text": [
      "\"Accuracy\": 43.6,\n",
      "\"Accuracy A\": 22.6,\n",
      "\"Accuracy B\": 56.5,\n",
      "\"Accuracy C\": 45.0,\n"
     ]
    }
   ],
   "source": [
    "path = 'saves/Qwen2.5-VL-7B-Instruct/lora/eval_virat_new_shuffled_ins_2025-04-14-11-45-50/generated_predictions.jsonl'\n",
    "acc, acc_by_letter = compute_acc_by_letter(path)\n",
    "print(f'\"Accuracy\": {acc:.1f},')\n",
    "print(f'\"Accuracy A\": {acc_by_letter[\"A\"]:.1f},')\n",
    "print(f'\"Accuracy B\": {acc_by_letter[\"B\"]:.1f},')\n",
    "print(f'\"Accuracy C\": {acc_by_letter[\"C\"]:.1f},')"
   ]
  }
 ],
 "metadata": {
  "kernelspec": {
   "display_name": "finetune",
   "language": "python",
   "name": "python3"
  },
  "language_info": {
   "codemirror_mode": {
    "name": "ipython",
    "version": 3
   },
   "file_extension": ".py",
   "mimetype": "text/x-python",
   "name": "python",
   "nbconvert_exporter": "python",
   "pygments_lexer": "ipython3",
   "version": "3.11.11"
  }
 },
 "nbformat": 4,
 "nbformat_minor": 5
}
