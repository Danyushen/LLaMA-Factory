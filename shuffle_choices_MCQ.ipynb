{
 "cells": [
  {
   "cell_type": "code",
   "execution_count": 1,
   "id": "f301e4f1",
   "metadata": {},
   "outputs": [],
   "source": [
    "import os\n",
    "import pandas as pd\n",
    "import random\n",
    "import ast"
   ]
  },
  {
   "cell_type": "code",
   "execution_count": null,
   "id": "ae97fcba",
   "metadata": {},
   "outputs": [],
   "source": [
    "def shuffle_choices(row):\n",
    "    \"\"\"\n",
    "    Shuffle the answer choices for a given row.\n",
    "    \"\"\"\n",
    "    choices = ast.literal_eval(row['candidates'])\n",
    "    answer = row['answer']\n",
    "\n",
    "    correct_choice = [choice for choice in choices if choice.startswith(answer)][0]\n",
    "    answer_text = correct_choice.split('.')[1].strip()\n",
    "    \n",
    "    choice_texts = [choice.split('.')[1].strip() for choice in choices]\n",
    "    random.shuffle(choice_texts)\n",
    "\n",
    "    letters = ['A', 'B', 'C']\n",
    "    shuffled_choices = [f\"{letters[i]}. {choice}\" for i, choice in enumerate(choice_texts)]\n",
    "    correct_index = choice_texts.index(answer_text)\n",
    "    correct_letter = letters[correct_index]\n",
    "\n",
    "    return pd.Series({\n",
    "        'candidates': shuffled_choices,\n",
    "        'answer': correct_letter\n",
    "    })\n",
    "    "
   ]
  },
  {
   "cell_type": "code",
   "execution_count": 3,
   "id": "4278dc85",
   "metadata": {},
   "outputs": [],
   "source": [
    "file_path = os.path.expanduser('~/LMUData') \n",
    "MCQ_path = os.path.join(file_path, 'Virat_MCQ_frames.tsv')\n",
    "MCQ_shuffled_path = os.path.join(file_path, 'Virat_MCQ_frames_shuffled.tsv')\n",
    "MCQ = pd.read_csv(MCQ_path, sep='\\t')\n",
    "\n",
    "MCQ[['candidates', 'answer']] = MCQ.apply(shuffle_choices, axis=1)\n",
    "MCQ.to_csv(MCQ_shuffled_path, sep='\\t', index=False)"
   ]
  },
  {
   "cell_type": "code",
   "execution_count": 73,
   "id": "2e3ee907",
   "metadata": {},
   "outputs": [],
   "source": [
    "import json\n",
    "\n",
    "file_path = os.path.expanduser('~/LMUData') \n",
    "# json_path = os.path.join(file_path, 'Virat_MCQ_train_text.json')\n",
    "# json_shuffled_path = os.path.join(file_path, 'Virat_MCQ_train_text_shuffled.json')\n",
    "json_path = os.path.join(file_path, 'Virat_MCQ_validation_text.json')\n",
    "json_shuffled_path = os.path.join(file_path, 'Virat_MCQ_validation_text_shuffled.json')\n",
    "\n",
    "\n",
    "with open(json_path, 'r', encoding='utf-8') as f:\n",
    "    MCQJ = json.load(f)\n",
    "\n",
    "abc = [*'ABC']\n",
    "for Q in MCQJ:\n",
    "    Us,As = Q[\"messages\"]\n",
    "    # print(Us['content'])\n",
    "    content, choice_texts = Us['content'].split('[')\n",
    "    choice_texts = list(map(lambda x: x.strip(\" '\"), choice_texts[:-1].split(',')))\n",
    "    random.shuffle(choice_texts)\n",
    "    assert As['content'] in choice_texts, (As['content'],choice_texts)\n",
    "    for i in range(len(choice_texts)):\n",
    "        if As['content'] == choice_texts[i]:\n",
    "            As['content'] = abc[i] + As['content'][1:]\n",
    "        choice_texts[i] = abc[i] + choice_texts[i][1:]\n",
    "    Us['content'] = content + str(choice_texts)\n",
    "    # print(Us['content'])\n",
    "    # print(As['content'])\n",
    "\n",
    "with open(json_shuffled_path, 'w', encoding='utf-8') as f:\n",
    "    json.dump(MCQJ, f, indent=2)"
   ]
  }
 ],
 "metadata": {
  "kernelspec": {
   "display_name": "finetune",
   "language": "python",
   "name": "python3"
  },
  "language_info": {
   "codemirror_mode": {
    "name": "ipython",
    "version": 3
   },
   "file_extension": ".py",
   "mimetype": "text/x-python",
   "name": "python",
   "nbconvert_exporter": "python",
   "pygments_lexer": "ipython3",
   "version": "3.11.11"
  }
 },
 "nbformat": 4,
 "nbformat_minor": 5
}
